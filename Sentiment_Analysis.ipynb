{
  "nbformat": 4,
  "nbformat_minor": 0,
  "metadata": {
    "kernelspec": {
      "name": "python3",
      "display_name": "Python 3"
    },
    "language_info": {
      "codemirror_mode": {
        "name": "ipython",
        "version": 3
      },
      "file_extension": ".py",
      "mimetype": "text/x-python",
      "name": "python",
      "nbconvert_exporter": "python",
      "pygments_lexer": "ipython3",
      "version": "3.6.9"
    },
    "colab": {
      "name": "Sentiment Analysis.ipynb",
      "provenance": [],
      "include_colab_link": true
    },
    "accelerator": "GPU"
  },
  "cells": [
    {
      "cell_type": "markdown",
      "metadata": {
        "id": "view-in-github",
        "colab_type": "text"
      },
      "source": [
        "<a href=\"https://colab.research.google.com/github/syedsaifhasan/Sentiment-Analysis/blob/master/Sentiment_Analysis.ipynb\" target=\"_parent\"><img src=\"https://colab.research.google.com/assets/colab-badge.svg\" alt=\"Open In Colab\"/></a>"
      ]
    },
    {
      "cell_type": "code",
      "metadata": {
        "id": "OLW2Ztl_FD0E",
        "colab_type": "code",
        "outputId": "983d0449-60f5-424f-e933-00cb69ee2411",
        "colab": {
          "base_uri": "https://localhost:8080/",
          "height": 35
        }
      },
      "source": [
        "# Load the Drive helper and mount\n",
        "from google.colab import drive\n",
        "drive.mount('/content/drive')"
      ],
      "execution_count": 1,
      "outputs": [
        {
          "output_type": "stream",
          "text": [
            "Drive already mounted at /content/drive; to attempt to forcibly remount, call drive.mount(\"/content/drive\", force_remount=True).\n"
          ],
          "name": "stdout"
        }
      ]
    },
    {
      "cell_type": "code",
      "metadata": {
        "id": "VlZB484gnnr-",
        "colab_type": "code",
        "outputId": "ffdd5f7e-7b5f-46c8-fc4a-6ec0a075936a",
        "colab": {
          "base_uri": "https://localhost:8080/",
          "height": 35
        }
      },
      "source": [
        "!pip3 install pytreebank"
      ],
      "execution_count": 2,
      "outputs": [
        {
          "output_type": "stream",
          "text": [
            "Requirement already satisfied: pytreebank in /usr/local/lib/python3.6/dist-packages (0.2.7)\n"
          ],
          "name": "stdout"
        }
      ]
    },
    {
      "cell_type": "code",
      "metadata": {
        "id": "TLx2ek4aFB3W",
        "colab_type": "code",
        "outputId": "8f25bbba-84dd-433d-840b-db9ad0db31f3",
        "colab": {
          "base_uri": "https://localhost:8080/",
          "height": 82
        }
      },
      "source": [
        "# Importing Libraries\n",
        "import os\n",
        "import sys\n",
        "import numpy as np\n",
        "from keras.preprocessing.text import Tokenizer\n",
        "from keras.preprocessing.sequence import pad_sequences\n",
        "from keras.utils import to_categorical\n",
        "from keras.layers import Dense, Input, GlobalMaxPooling1D, GRU\n",
        "from keras.layers import Conv1D, MaxPooling1D, Embedding\n",
        "from keras.models import Model\n",
        "from keras.initializers import Constant\n",
        "from keras.models import Sequential\n",
        "from keras.layers import LSTM\n",
        "import pytreebank\n",
        "import matplotlib.pyplot as plt\n",
        "from sklearn.metrics import f1_score, precision_score, recall_score, confusion_matrix\n",
        "import os\n",
        "os.environ['TF_CPP_MIN_LOG_LEVEL'] = '3'"
      ],
      "execution_count": 3,
      "outputs": [
        {
          "output_type": "stream",
          "text": [
            "Using TensorFlow backend.\n"
          ],
          "name": "stderr"
        },
        {
          "output_type": "display_data",
          "data": {
            "text/html": [
              "<p style=\"color: red;\">\n",
              "The default version of TensorFlow in Colab will switch to TensorFlow 2.x on the 27th of March, 2020.<br>\n",
              "We recommend you <a href=\"https://www.tensorflow.org/guide/migrate\" target=\"_blank\">upgrade</a> now\n",
              "or ensure your notebook will continue to use TensorFlow 1.x via the <code>%tensorflow_version 1.x</code> magic:\n",
              "<a href=\"https://colab.research.google.com/notebooks/tensorflow_version.ipynb\" target=\"_blank\">more info</a>.</p>\n"
            ],
            "text/plain": [
              "<IPython.core.display.HTML object>"
            ]
          },
          "metadata": {
            "tags": []
          }
        }
      ]
    },
    {
      "cell_type": "code",
      "metadata": {
        "id": "WJtbF3AUFB3d",
        "colab_type": "code",
        "colab": {}
      },
      "source": [
        "MAX_SEQUENCE_LENGTH = 1000\n",
        "MAX_NUM_WORDS = 20000\n",
        "EMBEDDING_DIM = 300\n",
        "\n",
        "glove_twitter = 'glove.twitter.27B.200d.txt'\n",
        "glove_crawl = 'glove.42B.300d.txt'\n",
        "fasttext = 'fasttext-wiki-news-300d-1M.vec'\n",
        "fasttext_subword = 'fasttext-wiki-news-300d-1M-subword.vec'\n",
        "\n",
        "\n",
        "pre_trained_model = fasttext_subword"
      ],
      "execution_count": 0,
      "outputs": []
    },
    {
      "cell_type": "code",
      "metadata": {
        "id": "kzW9SLdXFB3g",
        "colab_type": "code",
        "outputId": "32618e63-1a69-4c9b-cbb0-1eb78e0a15bb",
        "colab": {
          "base_uri": "https://localhost:8080/",
          "height": 89
        }
      },
      "source": [
        "print('Processing text dataset')\n",
        "\n",
        "dataset = pytreebank.load_sst()\n",
        "texts = []  # list of text samples\n",
        "labels = []  # list of label ids\n",
        "\n",
        "for key in ['train', 'test', 'dev']:\n",
        "    exampleDataset = dataset[key]\n",
        "    print (len(exampleDataset))\n",
        "    for example in exampleDataset:\n",
        "        label, sentence = example.to_labeled_lines()[0]\n",
        "        texts.append(sentence)\n",
        "        labels.append(label)\n",
        "\n",
        "test_labels = labels[8544:8544+2210]"
      ],
      "execution_count": 5,
      "outputs": [
        {
          "output_type": "stream",
          "text": [
            "Processing text dataset\n",
            "8544\n",
            "2210\n",
            "1101\n"
          ],
          "name": "stdout"
        }
      ]
    },
    {
      "cell_type": "code",
      "metadata": {
        "id": "ILN6uXsmFB3o",
        "colab_type": "code",
        "outputId": "5b6f04bd-e236-4cf0-c295-3d0ced4b5bcc",
        "colab": {
          "base_uri": "https://localhost:8080/",
          "height": 107
        }
      },
      "source": [
        "print (\"Complete Length of Dataset: \", len(texts))\n",
        "\n",
        "x_train = texts[:8544]\n",
        "y_train = labels[:8544]\n",
        "\n",
        "x_test = texts[8545:8545+2210]\n",
        "y_test = labels[8545:8545+2210]\n",
        "\n",
        "x_val = texts[-1101:]\n",
        "y_val = labels[-1101:]\n",
        "\n",
        "print ('\\nLength of Training Data: ', len(x_train))\n",
        "print ('Length of Testing Data: ', len(x_test))\n",
        "print ('Length of Validation Data: ', len(x_val))"
      ],
      "execution_count": 6,
      "outputs": [
        {
          "output_type": "stream",
          "text": [
            "Complete Length of Dataset:  11855\n",
            "\n",
            "Length of Training Data:  8544\n",
            "Length of Testing Data:  2210\n",
            "Length of Validation Data:  1101\n"
          ],
          "name": "stdout"
        }
      ]
    },
    {
      "cell_type": "code",
      "metadata": {
        "id": "P2htCOn7FB3k",
        "colab_type": "code",
        "outputId": "f783520d-f674-4969-dd46-2885ddf67676",
        "colab": {
          "base_uri": "https://localhost:8080/",
          "height": 179
        }
      },
      "source": [
        "def encode(data, labels, tokenizer=None):\n",
        "  # Encode Text\n",
        "  tokenizer = Tokenizer()\n",
        "  tokenizer.fit_on_texts(data)\n",
        "  sequences = tokenizer.texts_to_sequences(data)\n",
        "  data = pad_sequences(sequences, maxlen=50)\n",
        "  # Encode Labels\n",
        "  labels = to_categorical(np.asarray(labels))\n",
        "  # Create Dictsizeionary\n",
        "  dictionary = tokenizer.word_index\n",
        "  return data, labels, dictionary\n",
        "\n",
        "# FETCH DATA, LABELS, DICTIONARIES\n",
        "x_train, y_train, train_dictionary = encode(x_train, y_train)\n",
        "x_val, y_val, validation_dictionary = encode(x_val, y_val)\n",
        "x_test, y_test, test_dictionary = encode(x_test, y_test)\n",
        "\n",
        "actual = test_labels\n",
        "\n",
        "print (x_train.shape, y_train.shape)\n",
        "print (x_test.shape, y_test.shape)\n",
        "print (x_val.shape, y_val.shape)\n",
        "\n",
        "print (\"Data Encoded...\\n\")\n",
        "\n",
        "print (\"Dictionaries Loaded...\")\n",
        "print ('Training Dictionary: {} Words'.format(len(train_dictionary)))\n",
        "print ('Validation Dictionary: {} Words'.format(len(validation_dictionary)))\n",
        "print ('Testing Dictionary: {} Words'.format(len(test_dictionary)))"
      ],
      "execution_count": 7,
      "outputs": [
        {
          "output_type": "stream",
          "text": [
            "(8544, 50) (8544, 5)\n",
            "(2210, 50) (2210, 5)\n",
            "(1101, 50) (1101, 5)\n",
            "Data Encoded...\n",
            "\n",
            "Dictionaries Loaded...\n",
            "Training Dictionary: 15333 Words\n",
            "Validation Dictionary: 4950 Words\n",
            "Testing Dictionary: 7676 Words\n"
          ],
          "name": "stdout"
        }
      ]
    },
    {
      "cell_type": "code",
      "metadata": {
        "id": "4m2Zg-OpFB3r",
        "colab_type": "code",
        "outputId": "174fcb50-63d8-4f20-a157-f8b24a40ab46",
        "colab": {
          "base_uri": "https://localhost:8080/",
          "height": 53
        }
      },
      "source": [
        "print('Preparing embedding matrix.')\n",
        "\n",
        "embeddings_index = {}\n",
        "with open('/content/drive/My Drive/sentiment_classification/' + pre_trained_model) as f:\n",
        "    for line in f:\n",
        "        word, coefs = line.split(maxsplit=1)\n",
        "        coefs = np.fromstring(coefs, 'f', sep=' ')\n",
        "        embeddings_index[word] = coefs\n",
        "\n",
        "print('Found %s word vectors.' % len(embeddings_index))"
      ],
      "execution_count": 8,
      "outputs": [
        {
          "output_type": "stream",
          "text": [
            "Preparing embedding matrix.\n",
            "Found 999995 word vectors.\n"
          ],
          "name": "stdout"
        }
      ]
    },
    {
      "cell_type": "code",
      "metadata": {
        "id": "VbHkbhN4ajbm",
        "colab_type": "code",
        "colab": {
          "base_uri": "https://localhost:8080/",
          "height": 35
        },
        "outputId": "a801eb68-de30-4b11-ca98-65840a2a71d0"
      },
      "source": [
        "# prepare embedding matrix\n",
        "num_words = min(MAX_NUM_WORDS, len(train_dictionary) + 1)\n",
        "embedding_matrix = np.zeros((num_words, EMBEDDING_DIM))\n",
        "for word, i in train_dictionary.items():\n",
        "    if i >= MAX_NUM_WORDS:\n",
        "        continue\n",
        "    embedding_vector = embeddings_index.get(word)\n",
        "    if embedding_vector is not None:\n",
        "        # words not found in embedding index will be all-zeros.\n",
        "        embedding_matrix[i] = embedding_vector\n",
        "\n",
        "print ('Emedding Matrix created of Shape: ', embedding_matrix.shape)"
      ],
      "execution_count": 9,
      "outputs": [
        {
          "output_type": "stream",
          "text": [
            "Emedding Matrix created of Shape:  (15334, 300)\n"
          ],
          "name": "stdout"
        }
      ]
    },
    {
      "cell_type": "code",
      "metadata": {
        "id": "RnPWrRc_FB3u",
        "colab_type": "code",
        "colab": {
          "base_uri": "https://localhost:8080/",
          "height": 595
        },
        "outputId": "ef0dad92-4442-45ac-bb3e-f071215bc21e"
      },
      "source": [
        "# load pre-trained word embeddings into an Embedding layer\n",
        "# note that we set trainable = False so as to keep the embeddings fixed\n",
        "embedding_layer = Embedding(num_words,\n",
        "                            EMBEDDING_DIM,\n",
        "                            embeddings_initializer=Constant(embedding_matrix),\n",
        "                            input_length=50,\n",
        "                            trainable=False)\n",
        "\n",
        "print('Training model.')\n",
        "\n",
        "print('Build model...')\n",
        "model = Sequential()\n",
        "model.add(embedding_layer)\n",
        "model.add(LSTM(300, dropout=0.5, recurrent_dropout=0.5))\n",
        "model.add(Dense(5, activation='softmax'))\n",
        "\n",
        "# try using different optimizers and different optimizer configs\n",
        "model.compile(loss='categorical_crossentropy',\n",
        "              optimizer='adam',\n",
        "              metrics=['accuracy'])\n",
        "\n",
        "model.summary()"
      ],
      "execution_count": 10,
      "outputs": [
        {
          "output_type": "stream",
          "text": [
            "WARNING:tensorflow:From /usr/local/lib/python3.6/dist-packages/keras/backend/tensorflow_backend.py:66: The name tf.get_default_graph is deprecated. Please use tf.compat.v1.get_default_graph instead.\n",
            "\n",
            "Training model.\n",
            "Build model...\n",
            "WARNING:tensorflow:From /usr/local/lib/python3.6/dist-packages/keras/backend/tensorflow_backend.py:541: The name tf.placeholder is deprecated. Please use tf.compat.v1.placeholder instead.\n",
            "\n",
            "WARNING:tensorflow:From /usr/local/lib/python3.6/dist-packages/keras/backend/tensorflow_backend.py:4432: The name tf.random_uniform is deprecated. Please use tf.random.uniform instead.\n",
            "\n",
            "WARNING:tensorflow:From /usr/local/lib/python3.6/dist-packages/keras/backend/tensorflow_backend.py:148: The name tf.placeholder_with_default is deprecated. Please use tf.compat.v1.placeholder_with_default instead.\n",
            "\n",
            "WARNING:tensorflow:From /usr/local/lib/python3.6/dist-packages/keras/backend/tensorflow_backend.py:3733: calling dropout (from tensorflow.python.ops.nn_ops) with keep_prob is deprecated and will be removed in a future version.\n",
            "Instructions for updating:\n",
            "Please use `rate` instead of `keep_prob`. Rate should be set to `rate = 1 - keep_prob`.\n",
            "WARNING:tensorflow:From /usr/local/lib/python3.6/dist-packages/keras/optimizers.py:793: The name tf.train.Optimizer is deprecated. Please use tf.compat.v1.train.Optimizer instead.\n",
            "\n",
            "WARNING:tensorflow:From /usr/local/lib/python3.6/dist-packages/keras/backend/tensorflow_backend.py:3576: The name tf.log is deprecated. Please use tf.math.log instead.\n",
            "\n",
            "Model: \"sequential_1\"\n",
            "_________________________________________________________________\n",
            "Layer (type)                 Output Shape              Param #   \n",
            "=================================================================\n",
            "embedding_1 (Embedding)      (None, 50, 300)           4600200   \n",
            "_________________________________________________________________\n",
            "lstm_1 (LSTM)                (None, 300)               721200    \n",
            "_________________________________________________________________\n",
            "dense_1 (Dense)              (None, 5)                 1505      \n",
            "=================================================================\n",
            "Total params: 5,322,905\n",
            "Trainable params: 722,705\n",
            "Non-trainable params: 4,600,200\n",
            "_________________________________________________________________\n"
          ],
          "name": "stdout"
        }
      ]
    },
    {
      "cell_type": "code",
      "metadata": {
        "id": "xU_sIl4BFB3z",
        "colab_type": "code",
        "colab": {
          "base_uri": "https://localhost:8080/",
          "height": 1000
        },
        "outputId": "2408f7f7-6c87-4404-ce8a-d32e9a469e7a"
      },
      "source": [
        "print('Train...')\n",
        "history = model.fit(x_train, y_train,\n",
        "          batch_size=128,\n",
        "          epochs=25,\n",
        "          validation_data=(x_val, y_val))\n",
        "\n",
        "print ('Evaluating Model...')\n",
        "score, acc = model.evaluate(x_test, y_test,\n",
        "                            batch_size=128)\n",
        "print('Test score:', score)\n",
        "print('Test accuracy:', acc)"
      ],
      "execution_count": 11,
      "outputs": [
        {
          "output_type": "stream",
          "text": [
            "Train...\n",
            "WARNING:tensorflow:From /tensorflow-1.15.0/python3.6/tensorflow_core/python/ops/math_grad.py:1424: where (from tensorflow.python.ops.array_ops) is deprecated and will be removed in a future version.\n",
            "Instructions for updating:\n",
            "Use tf.where in 2.0, which has the same broadcast rule as np.where\n",
            "WARNING:tensorflow:From /usr/local/lib/python3.6/dist-packages/keras/backend/tensorflow_backend.py:1033: The name tf.assign_add is deprecated. Please use tf.compat.v1.assign_add instead.\n",
            "\n",
            "WARNING:tensorflow:From /usr/local/lib/python3.6/dist-packages/keras/backend/tensorflow_backend.py:1020: The name tf.assign is deprecated. Please use tf.compat.v1.assign instead.\n",
            "\n",
            "WARNING:tensorflow:From /usr/local/lib/python3.6/dist-packages/keras/backend/tensorflow_backend.py:3005: The name tf.Session is deprecated. Please use tf.compat.v1.Session instead.\n",
            "\n",
            "Train on 8544 samples, validate on 1101 samples\n",
            "Epoch 1/25\n",
            "WARNING:tensorflow:From /usr/local/lib/python3.6/dist-packages/keras/backend/tensorflow_backend.py:190: The name tf.get_default_session is deprecated. Please use tf.compat.v1.get_default_session instead.\n",
            "\n",
            "WARNING:tensorflow:From /usr/local/lib/python3.6/dist-packages/keras/backend/tensorflow_backend.py:197: The name tf.ConfigProto is deprecated. Please use tf.compat.v1.ConfigProto instead.\n",
            "\n",
            "WARNING:tensorflow:From /usr/local/lib/python3.6/dist-packages/keras/backend/tensorflow_backend.py:207: The name tf.global_variables is deprecated. Please use tf.compat.v1.global_variables instead.\n",
            "\n",
            "WARNING:tensorflow:From /usr/local/lib/python3.6/dist-packages/keras/backend/tensorflow_backend.py:216: The name tf.is_variable_initialized is deprecated. Please use tf.compat.v1.is_variable_initialized instead.\n",
            "\n",
            "WARNING:tensorflow:From /usr/local/lib/python3.6/dist-packages/keras/backend/tensorflow_backend.py:223: The name tf.variables_initializer is deprecated. Please use tf.compat.v1.variables_initializer instead.\n",
            "\n",
            "8544/8544 [==============================] - 10s 1ms/step - loss: 1.5674 - acc: 0.2836 - val_loss: 1.5669 - val_acc: 0.2916\n",
            "Epoch 2/25\n",
            "8544/8544 [==============================] - 9s 1ms/step - loss: 1.5368 - acc: 0.3234 - val_loss: 1.5536 - val_acc: 0.3034\n",
            "Epoch 3/25\n",
            "8544/8544 [==============================] - 9s 1000us/step - loss: 1.4976 - acc: 0.3427 - val_loss: 1.5544 - val_acc: 0.2925\n",
            "Epoch 4/25\n",
            "8544/8544 [==============================] - 8s 992us/step - loss: 1.4780 - acc: 0.3551 - val_loss: 1.5572 - val_acc: 0.2961\n",
            "Epoch 5/25\n",
            "8544/8544 [==============================] - 8s 980us/step - loss: 1.4633 - acc: 0.3597 - val_loss: 1.5588 - val_acc: 0.2925\n",
            "Epoch 6/25\n",
            "8544/8544 [==============================] - 8s 989us/step - loss: 1.4450 - acc: 0.3711 - val_loss: 1.5702 - val_acc: 0.2843\n",
            "Epoch 7/25\n",
            "8544/8544 [==============================] - 9s 997us/step - loss: 1.4289 - acc: 0.3732 - val_loss: 1.5726 - val_acc: 0.2870\n",
            "Epoch 8/25\n",
            "8544/8544 [==============================] - 8s 992us/step - loss: 1.4255 - acc: 0.3803 - val_loss: 1.5817 - val_acc: 0.2888\n",
            "Epoch 9/25\n",
            "8544/8544 [==============================] - 8s 985us/step - loss: 1.4277 - acc: 0.3834 - val_loss: 1.5826 - val_acc: 0.2888\n",
            "Epoch 10/25\n",
            "8544/8544 [==============================] - 9s 999us/step - loss: 1.4176 - acc: 0.3833 - val_loss: 1.5731 - val_acc: 0.2906\n",
            "Epoch 11/25\n",
            "8544/8544 [==============================] - 8s 985us/step - loss: 1.4056 - acc: 0.3900 - val_loss: 1.5803 - val_acc: 0.2888\n",
            "Epoch 12/25\n",
            "8544/8544 [==============================] - 8s 979us/step - loss: 1.4026 - acc: 0.3873 - val_loss: 1.5770 - val_acc: 0.2925\n",
            "Epoch 13/25\n",
            "8544/8544 [==============================] - 8s 987us/step - loss: 1.3886 - acc: 0.3950 - val_loss: 1.5881 - val_acc: 0.2897\n",
            "Epoch 14/25\n",
            "8544/8544 [==============================] - 8s 974us/step - loss: 1.3925 - acc: 0.3956 - val_loss: 1.5948 - val_acc: 0.2916\n",
            "Epoch 15/25\n",
            "8544/8544 [==============================] - 8s 988us/step - loss: 1.3753 - acc: 0.4031 - val_loss: 1.5987 - val_acc: 0.2852\n",
            "Epoch 16/25\n",
            "8544/8544 [==============================] - 8s 989us/step - loss: 1.3816 - acc: 0.3956 - val_loss: 1.5967 - val_acc: 0.2906\n",
            "Epoch 17/25\n",
            "8544/8544 [==============================] - 8s 983us/step - loss: 1.3693 - acc: 0.4072 - val_loss: 1.5969 - val_acc: 0.2961\n",
            "Epoch 18/25\n",
            "8544/8544 [==============================] - 9s 995us/step - loss: 1.3615 - acc: 0.4034 - val_loss: 1.6221 - val_acc: 0.2761\n",
            "Epoch 19/25\n",
            "8544/8544 [==============================] - 9s 1ms/step - loss: 1.3597 - acc: 0.4058 - val_loss: 1.6101 - val_acc: 0.2952\n",
            "Epoch 20/25\n",
            "8544/8544 [==============================] - 8s 984us/step - loss: 1.3571 - acc: 0.4070 - val_loss: 1.6077 - val_acc: 0.2888\n",
            "Epoch 21/25\n",
            "8544/8544 [==============================] - 8s 965us/step - loss: 1.3466 - acc: 0.4232 - val_loss: 1.6137 - val_acc: 0.2888\n",
            "Epoch 22/25\n",
            "8544/8544 [==============================] - 8s 989us/step - loss: 1.3449 - acc: 0.4120 - val_loss: 1.6225 - val_acc: 0.2934\n",
            "Epoch 23/25\n",
            "8544/8544 [==============================] - 8s 987us/step - loss: 1.3381 - acc: 0.4222 - val_loss: 1.6168 - val_acc: 0.2797\n",
            "Epoch 24/25\n",
            "8544/8544 [==============================] - 8s 954us/step - loss: 1.3353 - acc: 0.4129 - val_loss: 1.6148 - val_acc: 0.2797\n",
            "Epoch 25/25\n",
            "8544/8544 [==============================] - 8s 956us/step - loss: 1.3217 - acc: 0.4307 - val_loss: 1.6333 - val_acc: 0.2861\n",
            "Evaluating Model...\n",
            "2210/2210 [==============================] - 1s 369us/step\n",
            "Test score: 1.7060997545449443\n",
            "Test accuracy: 0.2751131223337683\n"
          ],
          "name": "stdout"
        }
      ]
    },
    {
      "cell_type": "code",
      "metadata": {
        "id": "3ddBq5yK2skJ",
        "colab_type": "code",
        "colab": {
          "base_uri": "https://localhost:8080/",
          "height": 466
        },
        "outputId": "1222e1f1-0d53-4681-b21d-514228d39493"
      },
      "source": [
        "#Confusion Matrix and Classification Report\n",
        "Y_pred = model.predict(x_test)\n",
        "y_pred = np.argmax(Y_pred, axis=1)\n",
        "cm = confusion_matrix(test_labels, y_pred)\n",
        "\n",
        "target_names = ('very bad', 'bad', 'neutral', 'good', 'very good')\n",
        "\n",
        "plt.figure(figsize=(8,8))\n",
        "plt.imshow(cm, cmap=plt.cm.Blues)\n",
        "plt.xlabel(\"Predicted labels\", fontsize=14)\n",
        "plt.ylabel(\"True labels\", fontsize=14)\n",
        "plt.xticks(np.arange(5), target_names, fontsize=10)\n",
        "plt.yticks(np.arange(5), target_names, fontsize=10)\n",
        "plt.colorbar()\n",
        "plt.show()"
      ],
      "execution_count": 12,
      "outputs": [
        {
          "output_type": "display_data",
          "data": {
            "image/png": "[encoded data removed]",
            "text/plain": [
              "<Figure size 576x576 with 2 Axes>"
            ]
          },
          "metadata": {
            "tags": []
          }
        }
      ]
    },
    {
      "cell_type": "code",
      "metadata": {
        "id": "ObTxZQiOEU6e",
        "colab_type": "code",
        "colab": {
          "base_uri": "https://localhost:8080/",
          "height": 71
        },
        "outputId": "f8fabdbf-5f8b-4216-ed10-02f6e93b5231"
      },
      "source": [
        "# Print f1, precision, and recall scores\n",
        "print(precision_score(test_labels, y_pred , average=\"macro\"))\n",
        "print(recall_score(test_labels, y_pred , average=\"macro\"))\n",
        "print(f1_score(test_labels, y_pred , average=\"macro\"))"
      ],
      "execution_count": 13,
      "outputs": [
        {
          "output_type": "stream",
          "text": [
            "0.18214998152512565\n",
            "0.20721874092067116\n",
            "0.16095351323815155\n"
          ],
          "name": "stdout"
        }
      ]
    },
    {
      "cell_type": "code",
      "metadata": {
        "id": "M--hS3JeOrTB",
        "colab_type": "code",
        "colab": {
          "base_uri": "https://localhost:8080/",
          "height": 1000
        },
        "outputId": "663c7a86-7604-4378-8f6b-1683c9b87107"
      },
      "source": [
        "# Plot training & validation accuracy values\n",
        "plt.figure(figsize=(10,8))\n",
        "plt.plot(history.history['acc'])\n",
        "plt.plot(history.history['val_acc'])\n",
        "plt.xticks(fontsize=18)\n",
        "plt.yticks(fontsize=18)\n",
        "plt.ylabel('Accuracy', fontsize=18)\n",
        "plt.xlabel('Epoch', fontsize=18)\n",
        "plt.legend(['Train', 'Test'], loc='upper left', prop={'size': 20})\n",
        "plt.show()\n",
        "\n",
        "# Plot training & validation loss values\n",
        "plt.figure(figsize=(10,8))\n",
        "plt.plot(history.history['loss'])\n",
        "plt.plot(history.history['val_loss'])\n",
        "plt.xticks(fontsize=18)\n",
        "plt.yticks(fontsize=18)\n",
        "plt.ylabel('Loss', fontsize=18)\n",
        "plt.xlabel('Epoch', fontsize=18)\n",
        "plt.legend(['Train', 'Test'], loc='upper left', prop={'size': 20})\n",
        "plt.show()"
      ],
      "execution_count": 14,
      "outputs": [
        {
          "output_type": "display_data",
          "data": {
            "image/png": "[encoded data removed]",
            "text/plain": [
              "<Figure size 720x576 with 1 Axes>"
            ]
          },
          "metadata": {
            "tags": []
          }
        },
        {
          "output_type": "display_data",
          "data": {
            "image/png": "[encoded data removed]",
            "text/plain": [
              "<Figure size 720x576 with 1 Axes>"
            ]
          },
          "metadata": {
            "tags": []
          }
        }
      ]
    }
  ]
}